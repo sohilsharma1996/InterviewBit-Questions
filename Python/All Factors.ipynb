{
 "cells": [
  {
   "cell_type": "markdown",
   "id": "e90c0b72",
   "metadata": {},
   "source": [
    "# Problem Description"
   ]
  },
  {
   "cell_type": "markdown",
   "id": "9d31f73f",
   "metadata": {},
   "source": [
    "Given a number A, find all factors of A."
   ]
  },
  {
   "cell_type": "markdown",
   "id": "833c951a",
   "metadata": {},
   "source": [
    "# Problem Constraints\n"
   ]
  },
  {
   "cell_type": "markdown",
   "id": "e0567c03",
   "metadata": {},
   "source": [
    "1 <= A <= 10**9\n"
   ]
  },
  {
   "cell_type": "markdown",
   "id": "404e2749",
   "metadata": {},
   "source": [
    "# Input & Output Format\n"
   ]
  },
  {
   "cell_type": "markdown",
   "id": "9ae778ec",
   "metadata": {},
   "source": [
    "The first argument is an integer A.\n",
    "\n",
    "Return an array of all factors of A."
   ]
  },
  {
   "cell_type": "markdown",
   "id": "c8f41a25",
   "metadata": {},
   "source": [
    "# Solution 1:"
   ]
  },
  {
   "cell_type": "markdown",
   "id": "8b0ec3b8",
   "metadata": {},
   "source": [
    "For any number, say n, to be a Factor of the Input Number (say N), the Remainder when N is divided by n should be Zero.\n",
    "Thus , we can use the Modulo Operation."
   ]
  },
  {
   "cell_type": "code",
   "execution_count": 1,
   "id": "2cd92b97",
   "metadata": {},
   "outputs": [],
   "source": [
    "def allfactors(A):\n",
    "    Factors = []\n",
    "    for i in range(1,A+1):\n",
    "        if A % i == 0:\n",
    "            Factors.append(i)\n",
    "    return Factors"
   ]
  },
  {
   "cell_type": "code",
   "execution_count": 2,
   "id": "5876f427",
   "metadata": {},
   "outputs": [
    {
     "data": {
      "text/plain": [
       "[1, 2, 4, 8, 16, 32]"
      ]
     },
     "execution_count": 2,
     "metadata": {},
     "output_type": "execute_result"
    }
   ],
   "source": [
    "allfactors(32)"
   ]
  },
  {
   "cell_type": "markdown",
   "id": "0817f109",
   "metadata": {},
   "source": [
    "The above Solution works well if we have a small Number for which to find the Factors.\n",
    "But, for a large number, it will take Time.\n",
    "\n",
    "Time Complexity : O(n) ;  Auxiliary Space : O(1)\n",
    "\n",
    "Another better Solution : "
   ]
  },
  {
   "cell_type": "markdown",
   "id": "77e45952",
   "metadata": {},
   "source": [
    "# Solution 2:"
   ]
  },
  {
   "cell_type": "markdown",
   "id": "9d2634ea",
   "metadata": {},
   "source": [
    "If we look carefully, all the divisors are present in pairs. \n",
    "For example if n = 100, then the various pairs of divisors are: (1,100), (2,50), (4,25), (5,20), (10,10)\n",
    "Using this fact we could speed up our program significantly. \n",
    "We, however, have to be careful if there are two equal divisors as in the case of (10, 10). \n",
    "\n",
    "In such case, we’d print only one of them"
   ]
  },
  {
   "cell_type": "code",
   "execution_count": 3,
   "id": "d6d04d08",
   "metadata": {},
   "outputs": [],
   "source": [
    "import math"
   ]
  },
  {
   "cell_type": "code",
   "execution_count": 4,
   "id": "80443beb",
   "metadata": {},
   "outputs": [],
   "source": [
    "class Solution:\n",
    "    def AllFactors(A):\n",
    "        factors = []\n",
    "        factors2 = []\n",
    "        # brute force\n",
    "        for x in range(1, int(math.sqrt(A))+1):\n",
    "            d, m = divmod(A, x)     # returns Quotient and Remainder when Dividend A is divided by Divisor x\n",
    "            if m == 0 : \n",
    "                factors.append(x)   # sorted\n",
    "                if d != x : \n",
    "                    factors2.append(d) # reverse sort\n",
    "        factors2.reverse()\n",
    "        print(factors + factors2)"
   ]
  },
  {
   "cell_type": "markdown",
   "id": "9e7e6f01",
   "metadata": {},
   "source": [
    "Time Complexity: O(sqrt(n)) ; Auxiliary Space : O(1)"
   ]
  },
  {
   "cell_type": "code",
   "execution_count": null,
   "id": "f449eaf5",
   "metadata": {},
   "outputs": [],
   "source": []
  }
 ],
 "metadata": {
  "kernelspec": {
   "display_name": "Python 3 (ipykernel)",
   "language": "python",
   "name": "python3"
  },
  "language_info": {
   "codemirror_mode": {
    "name": "ipython",
    "version": 3
   },
   "file_extension": ".py",
   "mimetype": "text/x-python",
   "name": "python",
   "nbconvert_exporter": "python",
   "pygments_lexer": "ipython3",
   "version": "3.9.13"
  }
 },
 "nbformat": 4,
 "nbformat_minor": 5
}
